{
 "cells": [
  {
   "cell_type": "markdown",
   "id": "7e65408e",
   "metadata": {},
   "source": [
    "Importing the essential modules\n"
   ]
  },
  {
   "cell_type": "code",
   "execution_count": 1,
   "id": "c0ca79b1",
   "metadata": {},
   "outputs": [],
   "source": [
    "import pandas as pd\n",
    "import numpy as np\n",
    "from sklearn.model_selection import train_test_split\n",
    "from sklearn.preprocessing import StandardScaler, LabelEncoder\n",
    "from matplotlib import pyplot as plt\n",
    "import seaborn as sns\n",
    "from sklearn.linear_model import LogisticRegression\n",
    "from sklearn.metrics import accuracy_score, precision_score, recall_score, f1_score\n",
    "import warnings\n",
    "warnings.filterwarnings(\"ignore\")"
   ]
  },
  {
   "cell_type": "markdown",
   "id": "677ae6f5",
   "metadata": {},
   "source": [
    "Load the dataset"
   ]
  },
  {
   "cell_type": "code",
   "execution_count": 2,
   "id": "6019f94d",
   "metadata": {},
   "outputs": [],
   "source": [
    "df = pd.read_csv(\"customer_churn_large_dataset.csv\")"
   ]
  },
  {
   "cell_type": "code",
   "execution_count": 3,
   "id": "6eae0ca0",
   "metadata": {},
   "outputs": [
    {
     "data": {
      "text/html": [
       "<div>\n",
       "<style scoped>\n",
       "    .dataframe tbody tr th:only-of-type {\n",
       "        vertical-align: middle;\n",
       "    }\n",
       "\n",
       "    .dataframe tbody tr th {\n",
       "        vertical-align: top;\n",
       "    }\n",
       "\n",
       "    .dataframe thead th {\n",
       "        text-align: right;\n",
       "    }\n",
       "</style>\n",
       "<table border=\"1\" class=\"dataframe\">\n",
       "  <thead>\n",
       "    <tr style=\"text-align: right;\">\n",
       "      <th></th>\n",
       "      <th>CustomerID</th>\n",
       "      <th>Name</th>\n",
       "      <th>Age</th>\n",
       "      <th>Gender</th>\n",
       "      <th>Location</th>\n",
       "      <th>Subscription_Length_Months</th>\n",
       "      <th>Monthly_Bill</th>\n",
       "      <th>Total_Usage_GB</th>\n",
       "      <th>Churn</th>\n",
       "    </tr>\n",
       "  </thead>\n",
       "  <tbody>\n",
       "    <tr>\n",
       "      <th>0</th>\n",
       "      <td>1</td>\n",
       "      <td>Customer_1</td>\n",
       "      <td>63</td>\n",
       "      <td>Male</td>\n",
       "      <td>Los Angeles</td>\n",
       "      <td>17</td>\n",
       "      <td>73.36</td>\n",
       "      <td>236</td>\n",
       "      <td>0</td>\n",
       "    </tr>\n",
       "    <tr>\n",
       "      <th>1</th>\n",
       "      <td>2</td>\n",
       "      <td>Customer_2</td>\n",
       "      <td>62</td>\n",
       "      <td>Female</td>\n",
       "      <td>New York</td>\n",
       "      <td>1</td>\n",
       "      <td>48.76</td>\n",
       "      <td>172</td>\n",
       "      <td>0</td>\n",
       "    </tr>\n",
       "    <tr>\n",
       "      <th>2</th>\n",
       "      <td>3</td>\n",
       "      <td>Customer_3</td>\n",
       "      <td>24</td>\n",
       "      <td>Female</td>\n",
       "      <td>Los Angeles</td>\n",
       "      <td>5</td>\n",
       "      <td>85.47</td>\n",
       "      <td>460</td>\n",
       "      <td>0</td>\n",
       "    </tr>\n",
       "    <tr>\n",
       "      <th>3</th>\n",
       "      <td>4</td>\n",
       "      <td>Customer_4</td>\n",
       "      <td>36</td>\n",
       "      <td>Female</td>\n",
       "      <td>Miami</td>\n",
       "      <td>3</td>\n",
       "      <td>97.94</td>\n",
       "      <td>297</td>\n",
       "      <td>1</td>\n",
       "    </tr>\n",
       "    <tr>\n",
       "      <th>4</th>\n",
       "      <td>5</td>\n",
       "      <td>Customer_5</td>\n",
       "      <td>46</td>\n",
       "      <td>Female</td>\n",
       "      <td>Miami</td>\n",
       "      <td>19</td>\n",
       "      <td>58.14</td>\n",
       "      <td>266</td>\n",
       "      <td>0</td>\n",
       "    </tr>\n",
       "  </tbody>\n",
       "</table>\n",
       "</div>"
      ],
      "text/plain": [
       "   CustomerID        Name  Age  Gender     Location  \\\n",
       "0           1  Customer_1   63    Male  Los Angeles   \n",
       "1           2  Customer_2   62  Female     New York   \n",
       "2           3  Customer_3   24  Female  Los Angeles   \n",
       "3           4  Customer_4   36  Female        Miami   \n",
       "4           5  Customer_5   46  Female        Miami   \n",
       "\n",
       "   Subscription_Length_Months  Monthly_Bill  Total_Usage_GB  Churn  \n",
       "0                          17         73.36             236      0  \n",
       "1                           1         48.76             172      0  \n",
       "2                           5         85.47             460      0  \n",
       "3                           3         97.94             297      1  \n",
       "4                          19         58.14             266      0  "
      ]
     },
     "execution_count": 3,
     "metadata": {},
     "output_type": "execute_result"
    }
   ],
   "source": [
    "df.head()"
   ]
  },
  {
   "cell_type": "markdown",
   "id": "209992c0",
   "metadata": {},
   "source": [
    "Checking for shape of the dataset"
   ]
  },
  {
   "cell_type": "code",
   "execution_count": 4,
   "id": "5ee5a518",
   "metadata": {},
   "outputs": [
    {
     "data": {
      "text/plain": [
       "(100000, 9)"
      ]
     },
     "execution_count": 4,
     "metadata": {},
     "output_type": "execute_result"
    }
   ],
   "source": [
    "df.shape"
   ]
  },
  {
   "cell_type": "markdown",
   "id": "26e9b6c4",
   "metadata": {},
   "source": [
    "Checking the unique values"
   ]
  },
  {
   "cell_type": "code",
   "execution_count": 5,
   "id": "c41e4609",
   "metadata": {},
   "outputs": [
    {
     "data": {
      "text/plain": [
       "array(['Los Angeles', 'New York', 'Miami', 'Chicago', 'Houston'],\n",
       "      dtype=object)"
      ]
     },
     "execution_count": 5,
     "metadata": {},
     "output_type": "execute_result"
    }
   ],
   "source": [
    "df[\"Location\"].unique()"
   ]
  },
  {
   "cell_type": "code",
   "execution_count": 6,
   "id": "809874c9",
   "metadata": {
    "scrolled": true
   },
   "outputs": [
    {
     "data": {
      "text/plain": [
       "array([63, 62, 24, 36, 46, 67, 30, 20, 53, 50, 44, 34, 28, 42, 55, 43, 31,\n",
       "       41, 58, 64, 70, 18, 25, 27, 66, 29, 60, 26, 45, 19, 37, 49, 38, 57,\n",
       "       47, 48, 40, 21, 33, 51, 35, 69, 61, 52, 39, 56, 59, 65, 22, 54, 68,\n",
       "       32, 23], dtype=int64)"
      ]
     },
     "execution_count": 6,
     "metadata": {},
     "output_type": "execute_result"
    }
   ],
   "source": [
    "df[\"Age\"].unique()"
   ]
  },
  {
   "cell_type": "code",
   "execution_count": 7,
   "id": "e92a6a73",
   "metadata": {},
   "outputs": [
    {
     "data": {
      "text/plain": [
       "array([17,  1,  5,  3, 19, 15, 10, 12, 20, 13,  8, 23,  2,  4, 18,  9, 14,\n",
       "       16,  6,  7, 24, 22, 11, 21], dtype=int64)"
      ]
     },
     "execution_count": 7,
     "metadata": {},
     "output_type": "execute_result"
    }
   ],
   "source": [
    "df[\"Subscription_Length_Months\"].unique()"
   ]
  },
  {
   "cell_type": "code",
   "execution_count": 8,
   "id": "086dede4",
   "metadata": {},
   "outputs": [
    {
     "data": {
      "text/plain": [
       "array([73.36, 48.76, 85.47, ..., 75.21, 41.98, 83.55])"
      ]
     },
     "execution_count": 8,
     "metadata": {},
     "output_type": "execute_result"
    }
   ],
   "source": [
    "df[\"Monthly_Bill\"].unique()"
   ]
  },
  {
   "cell_type": "code",
   "execution_count": 9,
   "id": "a775b4f4",
   "metadata": {},
   "outputs": [
    {
     "data": {
      "text/plain": [
       "array([236, 172, 460, 297, 266, 456, 269, 396, 150, 383, 442, 295, 148,\n",
       "       239, 233, 231, 198, 354, 429, 243, 270, 389, 226, 393,  89, 183,\n",
       "       135, 185, 151, 115, 194, 278, 423, 202, 495, 162, 101, 294, 122,\n",
       "       305, 212, 220, 253, 411, 447, 218, 221, 166,  64,  67, 391, 232,\n",
       "       298, 334, 326, 459, 371, 299, 376, 214, 329,  50, 444, 113,  76,\n",
       "       134, 184, 319, 235,  85, 332,  73, 369, 308, 446, 321,  83, 114,\n",
       "       296, 102, 215, 169, 225, 140,  84, 463, 402, 468, 375, 366, 404,\n",
       "       471, 204, 320, 178, 149, 361, 304, 281, 177, 117, 137, 322, 427,\n",
       "       403, 237, 439, 336, 344, 288, 257, 196, 365, 419, 111, 192, 244,\n",
       "       287, 395, 213, 109, 286, 283, 230, 491, 274, 335, 462, 407, 126,\n",
       "       199, 351, 261, 496, 480, 400, 303, 197, 181, 474, 348, 112, 457,\n",
       "        54, 397, 100, 318, 242, 327, 476, 256, 241, 466, 438,  51, 165,\n",
       "       120, 493,  59, 188, 339, 167, 301, 209, 311, 190, 345, 284, 390,\n",
       "        72, 258, 358, 136, 280,  55, 309, 388,  52, 478, 401, 472,  65,\n",
       "       163, 488, 497,  71, 216, 229, 271, 223, 263, 255, 145, 203, 372,\n",
       "       443, 306, 307, 386, 448, 377, 482, 324, 357, 187, 394, 123, 106,\n",
       "        80, 211,  78, 499, 498, 424, 325, 119, 143, 153, 437, 492, 406,\n",
       "        69, 272, 352, 125,  82, 160, 333, 104, 247, 405, 353,  63, 289,\n",
       "        88, 346,  91, 385, 380, 431, 364,  79, 300, 374,  86, 290, 265,\n",
       "       433, 469, 453, 224, 421, 251, 485, 180, 171,  95,  93, 350,  58,\n",
       "       200, 420, 132, 428, 479,  96, 103, 129, 417,  99, 430,  75,  53,\n",
       "       382, 412, 268, 410,  94, 315, 387, 116, 489, 108, 208, 313, 127,\n",
       "       222, 451,  56, 139, 282, 138, 141, 156, 373, 157, 467,  68, 414,\n",
       "       360, 144, 273, 217, 189, 118, 155,  62, 413, 154, 458, 449, 490,\n",
       "       464, 379, 254, 131,  92, 195, 450, 347, 191, 425, 432, 384,  57,\n",
       "       494, 173, 210, 363, 130, 487, 455, 105, 399, 323,  61, 341, 426,\n",
       "       240, 302, 176, 152, 331, 440, 276,  87, 291, 193,  90, 500, 170,\n",
       "       174, 182, 359, 408, 454, 158, 328, 436, 312, 338,  60, 362, 205,\n",
       "       416, 483, 415, 477, 484, 252, 250, 164, 146, 161, 234, 473, 317,\n",
       "        77, 267, 342, 110, 343, 133, 330, 367, 147,  81, 277, 310, 392,\n",
       "       349, 314, 107, 259, 228, 168, 246, 219,  98, 121, 142, 238, 206,\n",
       "        97, 381, 245, 175, 124, 292, 340, 316, 465, 470, 475, 248, 445,\n",
       "       452, 249, 337,  66, 418, 201, 227, 422, 481, 355, 279, 435, 275,\n",
       "       260,  70, 186, 159, 368, 179, 262, 370,  74, 378, 128, 461, 293,\n",
       "       441, 434, 207, 356, 398, 285, 409, 486, 264], dtype=int64)"
      ]
     },
     "execution_count": 9,
     "metadata": {},
     "output_type": "execute_result"
    }
   ],
   "source": [
    "df[\"Total_Usage_GB\"].unique()"
   ]
  },
  {
   "cell_type": "markdown",
   "id": "22d02d1c",
   "metadata": {},
   "source": [
    "Checking for the Null Values"
   ]
  },
  {
   "cell_type": "code",
   "execution_count": 10,
   "id": "b66814ee",
   "metadata": {},
   "outputs": [
    {
     "data": {
      "text/plain": [
       "CustomerID                    0\n",
       "Name                          0\n",
       "Age                           0\n",
       "Gender                        0\n",
       "Location                      0\n",
       "Subscription_Length_Months    0\n",
       "Monthly_Bill                  0\n",
       "Total_Usage_GB                0\n",
       "Churn                         0\n",
       "dtype: int64"
      ]
     },
     "execution_count": 10,
     "metadata": {},
     "output_type": "execute_result"
    }
   ],
   "source": [
    "df.isnull().sum()"
   ]
  },
  {
   "cell_type": "markdown",
   "id": "30f59bbd",
   "metadata": {},
   "source": [
    "Check the outliers from data"
   ]
  },
  {
   "cell_type": "code",
   "execution_count": 11,
   "id": "2336007e",
   "metadata": {},
   "outputs": [
    {
     "data": {
      "image/png": "[encoded data removed]",
      "text/plain": [
       "<Figure size 800x600 with 1 Axes>"
      ]
     },
     "metadata": {},
     "output_type": "display_data"
    }
   ],
   "source": [
    "imp_to_see_outliers0 = [\"Age\",\"Subscription_Length_Months\",\"Monthly_Bill\",\"Total_Usage_GB\"]\n",
    "\n",
    "plt.figure(figsize=(8,6))\n",
    "sns.boxplot(data=df[imp_to_see_outliers0])\n",
    "plt.title(\"Box plot for numerical column\")\n",
    "plt.xlabel(\"columns\")\n",
    "plt.ylabel(\"values\")\n",
    "plt.xticks(rotation=10)\n",
    "plt.show()"
   ]
  },
  {
   "cell_type": "markdown",
   "id": "f5f12b9a",
   "metadata": {},
   "source": [
    "Plot a heatmap\n"
   ]
  },
  {
   "cell_type": "code",
   "execution_count": 12,
   "id": "b14f98e6",
   "metadata": {},
   "outputs": [
    {
     "data": {
      "image/png": "[encoded data removed]",
      "text/plain": [
       "<Figure size 1000x800 with 2 Axes>"
      ]
     },
     "metadata": {},
     "output_type": "display_data"
    }
   ],
   "source": [
    "correlation_matrix = df.corr()\n",
    "\n",
    "plt.figure(figsize=(10, 8))\n",
    "sns.heatmap(correlation_matrix, annot=True, cmap='coolwarm', center=0)\n",
    "plt.title(\"Correlation Heatmap\")\n",
    "plt.show()"
   ]
  },
  {
   "cell_type": "markdown",
   "id": "407945a1",
   "metadata": {},
   "source": [
    "Plot count plot"
   ]
  },
  {
   "cell_type": "code",
   "execution_count": 13,
   "id": "d384e7ef",
   "metadata": {},
   "outputs": [
    {
     "data": {
      "image/png": "[encoded data removed]",
      "text/plain": [
       "<Figure size 1200x600 with 2 Axes>"
      ]
     },
     "metadata": {},
     "output_type": "display_data"
    }
   ],
   "source": [
    "plt.figure(figsize=(12, 6))\n",
    "for i,feature in enumerate(['Gender', 'Location']):\n",
    "    plt.subplot(1, 2, i+1)\n",
    "    sns.countplot(data=df, x=feature, hue='Churn')\n",
    "    plt.title(f'Count of Customers by {feature}')\n",
    "    plt.tight_layout()\n",
    "\n",
    "plt.show()\n"
   ]
  },
  {
   "cell_type": "markdown",
   "id": "07bcc9c0",
   "metadata": {},
   "source": [
    "Preparing data for machine learning"
   ]
  },
  {
   "cell_type": "code",
   "execution_count": 14,
   "id": "ce9e7a4a",
   "metadata": {},
   "outputs": [
    {
     "data": {
      "text/html": [
       "<div>\n",
       "<style scoped>\n",
       "    .dataframe tbody tr th:only-of-type {\n",
       "        vertical-align: middle;\n",
       "    }\n",
       "\n",
       "    .dataframe tbody tr th {\n",
       "        vertical-align: top;\n",
       "    }\n",
       "\n",
       "    .dataframe thead th {\n",
       "        text-align: right;\n",
       "    }\n",
       "</style>\n",
       "<table border=\"1\" class=\"dataframe\">\n",
       "  <thead>\n",
       "    <tr style=\"text-align: right;\">\n",
       "      <th></th>\n",
       "      <th>CustomerID</th>\n",
       "      <th>Name</th>\n",
       "      <th>Age</th>\n",
       "      <th>Gender</th>\n",
       "      <th>Location</th>\n",
       "      <th>Subscription_Length_Months</th>\n",
       "      <th>Monthly_Bill</th>\n",
       "      <th>Total_Usage_GB</th>\n",
       "      <th>Churn</th>\n",
       "    </tr>\n",
       "  </thead>\n",
       "  <tbody>\n",
       "    <tr>\n",
       "      <th>0</th>\n",
       "      <td>1</td>\n",
       "      <td>Customer_1</td>\n",
       "      <td>63</td>\n",
       "      <td>Male</td>\n",
       "      <td>Los Angeles</td>\n",
       "      <td>17</td>\n",
       "      <td>73.36</td>\n",
       "      <td>236</td>\n",
       "      <td>0</td>\n",
       "    </tr>\n",
       "    <tr>\n",
       "      <th>1</th>\n",
       "      <td>2</td>\n",
       "      <td>Customer_2</td>\n",
       "      <td>62</td>\n",
       "      <td>Female</td>\n",
       "      <td>New York</td>\n",
       "      <td>1</td>\n",
       "      <td>48.76</td>\n",
       "      <td>172</td>\n",
       "      <td>0</td>\n",
       "    </tr>\n",
       "    <tr>\n",
       "      <th>2</th>\n",
       "      <td>3</td>\n",
       "      <td>Customer_3</td>\n",
       "      <td>24</td>\n",
       "      <td>Female</td>\n",
       "      <td>Los Angeles</td>\n",
       "      <td>5</td>\n",
       "      <td>85.47</td>\n",
       "      <td>460</td>\n",
       "      <td>0</td>\n",
       "    </tr>\n",
       "    <tr>\n",
       "      <th>3</th>\n",
       "      <td>4</td>\n",
       "      <td>Customer_4</td>\n",
       "      <td>36</td>\n",
       "      <td>Female</td>\n",
       "      <td>Miami</td>\n",
       "      <td>3</td>\n",
       "      <td>97.94</td>\n",
       "      <td>297</td>\n",
       "      <td>1</td>\n",
       "    </tr>\n",
       "    <tr>\n",
       "      <th>4</th>\n",
       "      <td>5</td>\n",
       "      <td>Customer_5</td>\n",
       "      <td>46</td>\n",
       "      <td>Female</td>\n",
       "      <td>Miami</td>\n",
       "      <td>19</td>\n",
       "      <td>58.14</td>\n",
       "      <td>266</td>\n",
       "      <td>0</td>\n",
       "    </tr>\n",
       "  </tbody>\n",
       "</table>\n",
       "</div>"
      ],
      "text/plain": [
       "   CustomerID        Name  Age  Gender     Location  \\\n",
       "0           1  Customer_1   63    Male  Los Angeles   \n",
       "1           2  Customer_2   62  Female     New York   \n",
       "2           3  Customer_3   24  Female  Los Angeles   \n",
       "3           4  Customer_4   36  Female        Miami   \n",
       "4           5  Customer_5   46  Female        Miami   \n",
       "\n",
       "   Subscription_Length_Months  Monthly_Bill  Total_Usage_GB  Churn  \n",
       "0                          17         73.36             236      0  \n",
       "1                           1         48.76             172      0  \n",
       "2                           5         85.47             460      0  \n",
       "3                           3         97.94             297      1  \n",
       "4                          19         58.14             266      0  "
      ]
     },
     "execution_count": 14,
     "metadata": {},
     "output_type": "execute_result"
    }
   ],
   "source": [
    "df.head()"
   ]
  },
  {
   "cell_type": "markdown",
   "id": "643ce8b5",
   "metadata": {},
   "source": [
    "Drop the uneccassry columns "
   ]
  },
  {
   "cell_type": "code",
   "execution_count": 15,
   "id": "bed0fc3d",
   "metadata": {},
   "outputs": [],
   "source": [
    "df1 = df.drop([\"Name\",\"CustomerID\"],axis=1)"
   ]
  },
  {
   "cell_type": "markdown",
   "id": "b551e5d9",
   "metadata": {},
   "source": [
    "Convert string values to int"
   ]
  },
  {
   "cell_type": "code",
   "execution_count": 16,
   "id": "f4de9db4",
   "metadata": {},
   "outputs": [],
   "source": [
    "encoder = LabelEncoder()\n",
    "df1[\"Gender\"] = encoder.fit_transform(df1[\"Gender\"])\n",
    "df1[\"Location\"] = encoder.fit_transform(df1[\"Location\"])"
   ]
  },
  {
   "cell_type": "code",
   "execution_count": 17,
   "id": "efb0bd27",
   "metadata": {},
   "outputs": [
    {
     "data": {
      "text/html": [
       "<div>\n",
       "<style scoped>\n",
       "    .dataframe tbody tr th:only-of-type {\n",
       "        vertical-align: middle;\n",
       "    }\n",
       "\n",
       "    .dataframe tbody tr th {\n",
       "        vertical-align: top;\n",
       "    }\n",
       "\n",
       "    .dataframe thead th {\n",
       "        text-align: right;\n",
       "    }\n",
       "</style>\n",
       "<table border=\"1\" class=\"dataframe\">\n",
       "  <thead>\n",
       "    <tr style=\"text-align: right;\">\n",
       "      <th></th>\n",
       "      <th>Age</th>\n",
       "      <th>Gender</th>\n",
       "      <th>Location</th>\n",
       "      <th>Subscription_Length_Months</th>\n",
       "      <th>Monthly_Bill</th>\n",
       "      <th>Total_Usage_GB</th>\n",
       "      <th>Churn</th>\n",
       "    </tr>\n",
       "  </thead>\n",
       "  <tbody>\n",
       "    <tr>\n",
       "      <th>0</th>\n",
       "      <td>63</td>\n",
       "      <td>1</td>\n",
       "      <td>2</td>\n",
       "      <td>17</td>\n",
       "      <td>73.36</td>\n",
       "      <td>236</td>\n",
       "      <td>0</td>\n",
       "    </tr>\n",
       "    <tr>\n",
       "      <th>1</th>\n",
       "      <td>62</td>\n",
       "      <td>0</td>\n",
       "      <td>4</td>\n",
       "      <td>1</td>\n",
       "      <td>48.76</td>\n",
       "      <td>172</td>\n",
       "      <td>0</td>\n",
       "    </tr>\n",
       "    <tr>\n",
       "      <th>2</th>\n",
       "      <td>24</td>\n",
       "      <td>0</td>\n",
       "      <td>2</td>\n",
       "      <td>5</td>\n",
       "      <td>85.47</td>\n",
       "      <td>460</td>\n",
       "      <td>0</td>\n",
       "    </tr>\n",
       "    <tr>\n",
       "      <th>3</th>\n",
       "      <td>36</td>\n",
       "      <td>0</td>\n",
       "      <td>3</td>\n",
       "      <td>3</td>\n",
       "      <td>97.94</td>\n",
       "      <td>297</td>\n",
       "      <td>1</td>\n",
       "    </tr>\n",
       "    <tr>\n",
       "      <th>4</th>\n",
       "      <td>46</td>\n",
       "      <td>0</td>\n",
       "      <td>3</td>\n",
       "      <td>19</td>\n",
       "      <td>58.14</td>\n",
       "      <td>266</td>\n",
       "      <td>0</td>\n",
       "    </tr>\n",
       "  </tbody>\n",
       "</table>\n",
       "</div>"
      ],
      "text/plain": [
       "   Age  Gender  Location  Subscription_Length_Months  Monthly_Bill  \\\n",
       "0   63       1         2                          17         73.36   \n",
       "1   62       0         4                           1         48.76   \n",
       "2   24       0         2                           5         85.47   \n",
       "3   36       0         3                           3         97.94   \n",
       "4   46       0         3                          19         58.14   \n",
       "\n",
       "   Total_Usage_GB  Churn  \n",
       "0             236      0  \n",
       "1             172      0  \n",
       "2             460      0  \n",
       "3             297      1  \n",
       "4             266      0  "
      ]
     },
     "execution_count": 17,
     "metadata": {},
     "output_type": "execute_result"
    }
   ],
   "source": [
    "df1.head()"
   ]
  },
  {
   "cell_type": "markdown",
   "id": "24cf3927",
   "metadata": {},
   "source": [
    "Now the string values are changes to int "
   ]
  },
  {
   "cell_type": "code",
   "execution_count": 18,
   "id": "cf3622d1",
   "metadata": {},
   "outputs": [
    {
     "name": "stdout",
     "output_type": "stream",
     "text": [
      "[1 0]\n",
      "[2 4 3 0 1]\n"
     ]
    }
   ],
   "source": [
    "print(df1[\"Gender\"].unique())\n",
    "\n",
    "print(df1[\"Location\"].unique())"
   ]
  },
  {
   "cell_type": "markdown",
   "id": "f5c46754",
   "metadata": {},
   "source": [
    "Spliting data into training and testing"
   ]
  },
  {
   "cell_type": "code",
   "execution_count": 19,
   "id": "3a313014",
   "metadata": {},
   "outputs": [],
   "source": [
    "x = df1.drop('Churn',axis=1)\n",
    "y = df1['Churn']\n",
    "\n",
    "x_train,x_test,y_train,y_test = train_test_split(x,y,test_size=0.2,random_state=42)"
   ]
  },
  {
   "cell_type": "markdown",
   "id": "3e7c45a3",
   "metadata": {},
   "source": [
    "Statistics summary of dataset"
   ]
  },
  {
   "cell_type": "code",
   "execution_count": 20,
   "id": "9f2cd5e1",
   "metadata": {},
   "outputs": [
    {
     "name": "stdout",
     "output_type": "stream",
     "text": [
      "                 Age         Gender       Location  \\\n",
      "count  100000.000000  100000.000000  100000.000000   \n",
      "mean       44.027020       0.497840       1.995840   \n",
      "std        15.280283       0.499998       1.411638   \n",
      "min        18.000000       0.000000       0.000000   \n",
      "25%        31.000000       0.000000       1.000000   \n",
      "50%        44.000000       0.000000       2.000000   \n",
      "75%        57.000000       1.000000       3.000000   \n",
      "max        70.000000       1.000000       4.000000   \n",
      "\n",
      "       Subscription_Length_Months   Monthly_Bill  Total_Usage_GB  \\\n",
      "count               100000.000000  100000.000000   100000.000000   \n",
      "mean                    12.490100      65.053197      274.393650   \n",
      "std                      6.926461      20.230696      130.463063   \n",
      "min                      1.000000      30.000000       50.000000   \n",
      "25%                      6.000000      47.540000      161.000000   \n",
      "50%                     12.000000      65.010000      274.000000   \n",
      "75%                     19.000000      82.640000      387.000000   \n",
      "max                     24.000000     100.000000      500.000000   \n",
      "\n",
      "               Churn  \n",
      "count  100000.000000  \n",
      "mean        0.497790  \n",
      "std         0.499998  \n",
      "min         0.000000  \n",
      "25%         0.000000  \n",
      "50%         0.000000  \n",
      "75%         1.000000  \n",
      "max         1.000000  \n"
     ]
    }
   ],
   "source": [
    "print(df1.describe())"
   ]
  },
  {
   "cell_type": "markdown",
   "id": "c73b8388",
   "metadata": {},
   "source": [
    "Check for the bias in the training data and testing data"
   ]
  },
  {
   "cell_type": "code",
   "execution_count": 21,
   "id": "882e3f1a",
   "metadata": {},
   "outputs": [
    {
     "name": "stdout",
     "output_type": "stream",
     "text": [
      "length of training data :  80.0\n",
      "length of testing data :  20.0\n"
     ]
    }
   ],
   "source": [
    "train_pct = (len(x_train)/len(df1)) * 100\n",
    "test_pct = (len(x_test)/len(df1)) * 100\n",
    "print(\"length of training data : \", train_pct)\n",
    "print(\"length of testing data : \", test_pct)"
   ]
  },
  {
   "cell_type": "markdown",
   "id": "0a31bcfc",
   "metadata": {},
   "source": [
    "Feature Engineering (feature scaling)"
   ]
  },
  {
   "cell_type": "code",
   "execution_count": 22,
   "id": "1e025b7e",
   "metadata": {},
   "outputs": [],
   "source": [
    "scalar = StandardScaler()\n",
    "x_train_scaled = scalar.fit_transform(x_train)\n",
    "x_test_scaled = scalar.transform(x_test)"
   ]
  },
  {
   "cell_type": "markdown",
   "id": "77273ae7",
   "metadata": {},
   "source": [
    "Create the object of the model"
   ]
  },
  {
   "cell_type": "code",
   "execution_count": 23,
   "id": "1df252bc",
   "metadata": {},
   "outputs": [],
   "source": [
    "model = LogisticRegression()"
   ]
  },
  {
   "cell_type": "code",
   "execution_count": 24,
   "id": "0b8a8428",
   "metadata": {},
   "outputs": [
    {
     "data": {
      "text/html": [
       "<style>#sk-container-id-1 {color: black;background-color: white;}#sk-container-id-1 pre{padding: 0;}#sk-container-id-1 div.sk-toggleable {background-color: white;}#sk-container-id-1 label.sk-toggleable__label {cursor: pointer;display: block;width: 100%;margin-bottom: 0;padding: 0.3em;box-sizing: border-box;text-align: center;}#sk-container-id-1 label.sk-toggleable__label-arrow:before {content: \"▸\";float: left;margin-right: 0.25em;color: #696969;}#sk-container-id-1 label.sk-toggleable__label-arrow:hover:before {color: black;}#sk-container-id-1 div.sk-estimator:hover label.sk-toggleable__label-arrow:before {color: black;}#sk-container-id-1 div.sk-toggleable__content {max-height: 0;max-width: 0;overflow: hidden;text-align: left;background-color: #f0f8ff;}#sk-container-id-1 div.sk-toggleable__content pre {margin: 0.2em;color: black;border-radius: 0.25em;background-color: #f0f8ff;}#sk-container-id-1 input.sk-toggleable__control:checked~div.sk-toggleable__content {max-height: 200px;max-width: 100%;overflow: auto;}#sk-container-id-1 input.sk-toggleable__control:checked~label.sk-toggleable__label-arrow:before {content: \"▾\";}#sk-container-id-1 div.sk-estimator input.sk-toggleable__control:checked~label.sk-toggleable__label {background-color: #d4ebff;}#sk-container-id-1 div.sk-label input.sk-toggleable__control:checked~label.sk-toggleable__label {background-color: #d4ebff;}#sk-container-id-1 input.sk-hidden--visually {border: 0;clip: rect(1px 1px 1px 1px);clip: rect(1px, 1px, 1px, 1px);height: 1px;margin: -1px;overflow: hidden;padding: 0;position: absolute;width: 1px;}#sk-container-id-1 div.sk-estimator {font-family: monospace;background-color: #f0f8ff;border: 1px dotted black;border-radius: 0.25em;box-sizing: border-box;margin-bottom: 0.5em;}#sk-container-id-1 div.sk-estimator:hover {background-color: #d4ebff;}#sk-container-id-1 div.sk-parallel-item::after {content: \"\";width: 100%;border-bottom: 1px solid gray;flex-grow: 1;}#sk-container-id-1 div.sk-label:hover label.sk-toggleable__label {background-color: #d4ebff;}#sk-container-id-1 div.sk-serial::before {content: \"\";position: absolute;border-left: 1px solid gray;box-sizing: border-box;top: 0;bottom: 0;left: 50%;z-index: 0;}#sk-container-id-1 div.sk-serial {display: flex;flex-direction: column;align-items: center;background-color: white;padding-right: 0.2em;padding-left: 0.2em;position: relative;}#sk-container-id-1 div.sk-item {position: relative;z-index: 1;}#sk-container-id-1 div.sk-parallel {display: flex;align-items: stretch;justify-content: center;background-color: white;position: relative;}#sk-container-id-1 div.sk-item::before, #sk-container-id-1 div.sk-parallel-item::before {content: \"\";position: absolute;border-left: 1px solid gray;box-sizing: border-box;top: 0;bottom: 0;left: 50%;z-index: -1;}#sk-container-id-1 div.sk-parallel-item {display: flex;flex-direction: column;z-index: 1;position: relative;background-color: white;}#sk-container-id-1 div.sk-parallel-item:first-child::after {align-self: flex-end;width: 50%;}#sk-container-id-1 div.sk-parallel-item:last-child::after {align-self: flex-start;width: 50%;}#sk-container-id-1 div.sk-parallel-item:only-child::after {width: 0;}#sk-container-id-1 div.sk-dashed-wrapped {border: 1px dashed gray;margin: 0 0.4em 0.5em 0.4em;box-sizing: border-box;padding-bottom: 0.4em;background-color: white;}#sk-container-id-1 div.sk-label label {font-family: monospace;font-weight: bold;display: inline-block;line-height: 1.2em;}#sk-container-id-1 div.sk-label-container {text-align: center;}#sk-container-id-1 div.sk-container {/* jupyter's `normalize.less` sets `[hidden] { display: none; }` but bootstrap.min.css set `[hidden] { display: none !important; }` so we also need the `!important` here to be able to override the default hidden behavior on the sphinx rendered scikit-learn.org. See: https://github.com/scikit-learn/scikit-learn/issues/21755 */display: inline-block !important;position: relative;}#sk-container-id-1 div.sk-text-repr-fallback {display: none;}</style><div id=\"sk-container-id-1\" class=\"sk-top-container\"><div class=\"sk-text-repr-fallback\"><pre>LogisticRegression()</pre><b>In a Jupyter environment, please rerun this cell to show the HTML representation or trust the notebook. <br />On GitHub, the HTML representation is unable to render, please try loading this page with nbviewer.org.</b></div><div class=\"sk-container\" hidden><div class=\"sk-item\"><div class=\"sk-estimator sk-toggleable\"><input class=\"sk-toggleable__control sk-hidden--visually\" id=\"sk-estimator-id-1\" type=\"checkbox\" checked><label for=\"sk-estimator-id-1\" class=\"sk-toggleable__label sk-toggleable__label-arrow\">LogisticRegression</label><div class=\"sk-toggleable__content\"><pre>LogisticRegression()</pre></div></div></div></div></div>"
      ],
      "text/plain": [
       "LogisticRegression()"
      ]
     },
     "execution_count": 24,
     "metadata": {},
     "output_type": "execute_result"
    }
   ],
   "source": [
    "model.fit(x_train_scaled, y_train)"
   ]
  },
  {
   "cell_type": "markdown",
   "id": "0c05475a",
   "metadata": {},
   "source": [
    "Predict"
   ]
  },
  {
   "cell_type": "code",
   "execution_count": 25,
   "id": "3613ff26",
   "metadata": {},
   "outputs": [],
   "source": [
    "y_pred = model.predict(x_test_scaled)"
   ]
  },
  {
   "cell_type": "markdown",
   "id": "4686df73",
   "metadata": {},
   "source": [
    "Model Evaluation"
   ]
  },
  {
   "cell_type": "code",
   "execution_count": 26,
   "id": "a2fe3c38",
   "metadata": {},
   "outputs": [],
   "source": [
    "accuracy = accuracy_score(y_test, y_pred)\n",
    "precision = precision_score(y_test, y_pred)\n",
    "recall = recall_score(y_test, y_pred)\n",
    "f1 = f1_score(y_test, y_pred)"
   ]
  },
  {
   "cell_type": "code",
   "execution_count": 27,
   "id": "5713ae79",
   "metadata": {},
   "outputs": [
    {
     "name": "stdout",
     "output_type": "stream",
     "text": [
      "Accuracy: 0.50225\n",
      "Precision: 0.4977596204533474\n",
      "Recall: 0.38070758996068943\n",
      "F1-score: 0.4314352618653264\n"
     ]
    }
   ],
   "source": [
    "print(\"Accuracy:\", accuracy)\n",
    "print(\"Precision:\", precision)\n",
    "print(\"Recall:\", recall)\n",
    "print(\"F1-score:\", f1)"
   ]
  },
  {
   "cell_type": "markdown",
   "id": "4309d5fc",
   "metadata": {},
   "source": [
    "Fine Tune the model"
   ]
  },
  {
   "cell_type": "code",
   "execution_count": 28,
   "id": "0e8831df",
   "metadata": {},
   "outputs": [
    {
     "name": "stdout",
     "output_type": "stream",
     "text": [
      "Tuned Model Accuracy: 0.5033\n"
     ]
    }
   ],
   "source": [
    "from sklearn.model_selection import GridSearchCV\n",
    "\n",
    "param_grid = {'C': [0.001, 0.01, 0.1, 1, 10, 100]}\n",
    "grid_search = GridSearchCV(LogisticRegression(), param_grid, cv=5)\n",
    "grid_search.fit(x_train_scaled, y_train)\n",
    "\n",
    "best_model = grid_search.best_estimator_\n",
    "y_pred_tuned = best_model.predict(x_test_scaled)\n",
    "tuned_accuracy = accuracy_score(y_test, y_pred_tuned)\n",
    "\n",
    "print(\"Tuned Model Accuracy:\", tuned_accuracy)\n"
   ]
  },
  {
   "cell_type": "markdown",
   "id": "4522febb",
   "metadata": {},
   "source": [
    "Deployment of the model"
   ]
  },
  {
   "cell_type": "code",
   "execution_count": 29,
   "id": "e4f3075c",
   "metadata": {},
   "outputs": [
    {
     "name": "stdout",
     "output_type": "stream",
     "text": [
      "Enter customer's age: 25\n",
      "Enter gender (Female or Male): male\n",
      "Enter location: new uork\n",
      "Enter subscription length in months: 255\n",
      "Enter monthly bill amount: 230\n",
      "Enter total usage in GB: 122\n",
      "New Customer Churn Prediction: Not Churned\n"
     ]
    }
   ],
   "source": [
    "age = float(input(\"Enter customer's age: \"))\n",
    "gender_str = input(\"Enter gender (Female or Male): \")\n",
    "location_str = input(\"Enter location: \")\n",
    "subscription_length = float(input(\"Enter subscription length in months: \"))\n",
    "monthly_bill = float(input(\"Enter monthly bill amount: \"))\n",
    "total_usage = float(input(\"Enter total usage in GB: \"))\n",
    "\n",
    "gender_encoded = encoder.fit_transform([gender_str])[0]\n",
    "location_encoded = encoder.fit_transform([location_str])[0]\n",
    "\n",
    "new_customer_data = np.array([[age, gender_encoded, location_encoded, subscription_length, monthly_bill, total_usage]])\n",
    "\n",
    "new_customer_data_scaled = scalar.transform(new_customer_data)\n",
    "\n",
    "new_customer_churn_prediction = best_model.predict(new_customer_data_scaled)\n",
    "\n",
    "if new_customer_churn_prediction[0] == 0:\n",
    "    churn_status = \"Not Churned\"\n",
    "else:\n",
    "    churn_status = \"Churned\"\n",
    "\n",
    "print(\"New Customer Churn Prediction:\", churn_status)\n"
   ]
  },
  {
   "cell_type": "code",
   "execution_count": null,
   "id": "c233221b",
   "metadata": {},
   "outputs": [],
   "source": []
  }
 ],
 "metadata": {
  "kernelspec": {
   "display_name": "Python 3 (ipykernel)",
   "language": "python",
   "name": "python3"
  },
  "language_info": {
   "codemirror_mode": {
    "name": "ipython",
    "version": 3
   },
   "file_extension": ".py",
   "mimetype": "text/x-python",
   "name": "python",
   "nbconvert_exporter": "python",
   "pygments_lexer": "ipython3",
   "version": "3.10.9"
  }
 },
 "nbformat": 4,
 "nbformat_minor": 5
}
